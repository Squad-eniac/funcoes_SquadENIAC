{
 "cells": [
  {
   "cell_type": "markdown",
   "metadata": {},
   "source": [
    "5. Crie uma função chamada contar_vogais que recebe uma string como parâmetro. Implemente a lógica para contar o número de vogais na string e retorne o total de vogais. Solicite ao usuário para inserir uma frase e utilize a função para contar as vogais."
   ]
  },
  {
   "cell_type": "code",
   "execution_count": 1,
   "metadata": {},
   "outputs": [
    {
     "name": "stdout",
     "output_type": "stream",
     "text": [
      "O número total de vogais na frase é: 5\n"
     ]
    }
   ],
   "source": [
    "def contar_vogais(frase):\n",
    "    # Define as vogais\n",
    "    vogais = 'aeiouAEIOU'\n",
    "    # Inicializa o contador de vogais\n",
    "    contador = 0\n",
    "    # Percorre cada caractere da string\n",
    "    for caractere in frase:\n",
    "        if caractere in vogais:\n",
    "            contador += 1\n",
    "    return contador\n",
    "\n",
    "# Solicita ao usuário para inserir uma frase\n",
    "frase_usuario = input(\"Por favor, insira uma frase: \")\n",
    "\n",
    "# Utiliza a função contar_vogais para contar as vogais na frase do usuário\n",
    "total_vogais = contar_vogais(frase_usuario)\n",
    "\n",
    "# Exibe o total de vogais\n",
    "print(f\"O número total de vogais na frase é: {total_vogais}\")\n"
   ]
  }
 ],
 "metadata": {
  "kernelspec": {
   "display_name": "Python 3",
   "language": "python",
   "name": "python3"
  },
  "language_info": {
   "codemirror_mode": {
    "name": "ipython",
    "version": 3
   },
   "file_extension": ".py",
   "mimetype": "text/x-python",
   "name": "python",
   "nbconvert_exporter": "python",
   "pygments_lexer": "ipython3",
   "version": "3.12.1"
  }
 },
 "nbformat": 4,
 "nbformat_minor": 2
}
